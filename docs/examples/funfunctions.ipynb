{
 "cells": [
  {
   "cell_type": "markdown",
   "id": "63ebf5d8",
   "metadata": {},
   "source": [
    "# Fun Function with LandCalc"
   ]
  },
  {
   "cell_type": "code",
   "execution_count": 1,
   "id": "9e2778e6",
   "metadata": {},
   "outputs": [],
   "source": [
    "import landcalc as landcalc"
   ]
  },
  {
   "cell_type": "markdown",
   "id": "8412489e",
   "metadata": {},
   "source": [
    "## Adding Rasters"
   ]
  },
  {
   "cell_type": "code",
   "execution_count": 2,
   "id": "85a51e61",
   "metadata": {},
   "outputs": [
    {
     "data": {
      "application/vnd.jupyter.widget-view+json": {
       "model_id": "45e60cb303374145b3af28f0d46895ff",
       "version_major": 2,
       "version_minor": 0
      },
      "text/plain": [
       "Map(center=[37.7736215, -122.34097449999999], controls=(ZoomControl(options=['position', 'zoom_in_text', 'zoom…"
      ]
     },
     "execution_count": 2,
     "metadata": {},
     "output_type": "execute_result"
    }
   ],
   "source": [
    "url = \"https://opengeos.org/data/raster/landsat7.tif\"\n",
    "\n",
    "m = landcalc.Map()\n",
    "m.add_raster(filepath=url, name=\"San Fransico\", opacity=0.9)\n",
    "m"
   ]
  },
  {
   "cell_type": "markdown",
   "id": "7243dc25",
   "metadata": {},
   "source": [
    "## Adding Images"
   ]
  },
  {
   "cell_type": "code",
   "execution_count": 9,
   "id": "2e999a21",
   "metadata": {},
   "outputs": [
    {
     "data": {
      "application/vnd.jupyter.widget-view+json": {
       "model_id": "249933a59b9b4b27af0a31acefe3d527",
       "version_major": 2,
       "version_minor": 0
      },
      "text/plain": [
       "Map(center=[20, 0], controls=(ZoomControl(options=['position', 'zoom_in_text', 'zoom_in_title', 'zoom_out_text…"
      ]
     },
     "execution_count": 9,
     "metadata": {},
     "output_type": "execute_result"
    }
   ],
   "source": [
    "url = \"https://github.com/opengeos/datasets/releases/download/pace/cat.png\"\n",
    "\n",
    "m = landcalc.Map()\n",
    "m.add_image(url, name=\"Cat\", opacity=0.9)\n",
    "m"
   ]
  },
  {
   "cell_type": "markdown",
   "id": "83f369b0",
   "metadata": {},
   "source": [
    "## Adding Videos"
   ]
  },
  {
   "cell_type": "code",
   "execution_count": 6,
   "id": "9624c48e",
   "metadata": {},
   "outputs": [
    {
     "data": {
      "application/vnd.jupyter.widget-view+json": {
       "model_id": "09b7c6fb1c6b427692b3f68d93aaaba8",
       "version_major": 2,
       "version_minor": 0
      },
      "text/plain": [
       "Map(center=[20, 0], controls=(ZoomControl(options=['position', 'zoom_in_text', 'zoom_in_title', 'zoom_out_text…"
      ]
     },
     "execution_count": 6,
     "metadata": {},
     "output_type": "execute_result"
    }
   ],
   "source": [
    "url = \"https://github.com/opengeos/datasets/releases/download/videos/aral_sea.mp4\"\n",
    "m = landcalc.Map()\n",
    "m.add_video(url, bounds=[[37.75, -122.5], [37.8, -122.35]])\n",
    "m"
   ]
  },
  {
   "cell_type": "markdown",
   "id": "c567d419",
   "metadata": {},
   "source": [
    "## Adding WMS Layers"
   ]
  },
  {
   "cell_type": "code",
   "execution_count": 8,
   "id": "8ea6aa0e",
   "metadata": {},
   "outputs": [
    {
     "data": {
      "application/vnd.jupyter.widget-view+json": {
       "model_id": "7f328f7c888443c9bdde6c5d9b59d58a",
       "version_major": 2,
       "version_minor": 0
      },
      "text/plain": [
       "Map(center=[20, 0], controls=(ZoomControl(options=['position', 'zoom_in_text', 'zoom_in_title', 'zoom_out_text…"
      ]
     },
     "execution_count": 8,
     "metadata": {},
     "output_type": "execute_result"
    }
   ],
   "source": [
    "url = \"http://mesonet.agron.iastate.edu/cgi-bin/wms/nexrad/n0r.cgi\"\n",
    "\n",
    "m = landcalc.Map(enter=(38.491, -95.712), zoom=4)\n",
    "\n",
    "m.add_wms_layer(\n",
    "    url,\n",
    "    name=\"NEXRAD\",\n",
    "    layers=\"nexrad-n0r-900913\",\n",
    "    format=\"image/png\",\n",
    "    transparent=True,\n",
    ")\n",
    "\n",
    "m"
   ]
  }
 ],
 "metadata": {
  "kernelspec": {
   "display_name": "geo",
   "language": "python",
   "name": "python3"
  },
  "language_info": {
   "codemirror_mode": {
    "name": "ipython",
    "version": 3
   },
   "file_extension": ".py",
   "mimetype": "text/x-python",
   "name": "python",
   "nbconvert_exporter": "python",
   "pygments_lexer": "ipython3",
   "version": "3.12.9"
  }
 },
 "nbformat": 4,
 "nbformat_minor": 5
}
