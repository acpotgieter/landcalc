{
 "cells": [
  {
   "cell_type": "code",
   "execution_count": 4,
   "id": "e6995e53",
   "metadata": {},
   "outputs": [],
   "source": [
    "from landcalc import Map\n",
    "from landcalc.ui import build_gui"
   ]
  },
  {
   "cell_type": "code",
   "execution_count": 5,
   "id": "cefb50de",
   "metadata": {},
   "outputs": [
    {
     "data": {
      "application/vnd.jupyter.widget-view+json": {
       "model_id": "a5294615c7a949a8b00f359747ca7de5",
       "version_major": 2,
       "version_minor": 0
      },
      "text/plain": [
       "Map(center=[37.5, -95], controls=(ZoomControl(options=['position', 'zoom_in_text', 'zoom_in_title', 'zoom_out_…"
      ]
     },
     "execution_count": 5,
     "metadata": {},
     "output_type": "execute_result"
    }
   ],
   "source": [
    "m = Map(center=(37.5, -95), zoom=4)\n",
    "m.layout.height = \"700px\"\n",
    "\n",
    "gui_map = build_gui(m)\n",
    "gui_map"
   ]
  }
 ],
 "metadata": {
  "kernelspec": {
   "display_name": "geo",
   "language": "python",
   "name": "python3"
  },
  "language_info": {
   "codemirror_mode": {
    "name": "ipython",
    "version": 3
   },
   "file_extension": ".py",
   "mimetype": "text/x-python",
   "name": "python",
   "nbconvert_exporter": "python",
   "pygments_lexer": "ipython3",
   "version": "3.12.9"
  }
 },
 "nbformat": 4,
 "nbformat_minor": 5
}
