{
 "cells": [
  {
   "cell_type": "code",
   "execution_count": 2,
   "id": "a2981fa1",
   "metadata": {},
   "outputs": [
    {
     "name": "stdout",
     "output_type": "stream",
     "text": [
      "Requirement already satisfied: landcalc in /Users/andreapotgieter/landcalc/.conda/lib/python3.11/site-packages (0.0.1)\n",
      "Requirement already satisfied: numpy in /Users/andreapotgieter/landcalc/.conda/lib/python3.11/site-packages (from landcalc) (2.2.5)\n",
      "Note: you may need to restart the kernel to use updated packages.\n"
     ]
    }
   ],
   "source": [
    "pip install landcalc"
   ]
  },
  {
   "cell_type": "code",
   "execution_count": 4,
   "id": "476bd885",
   "metadata": {},
   "outputs": [],
   "source": [
    "import landcalc as lc"
   ]
  },
  {
   "cell_type": "code",
   "execution_count": 5,
   "id": "bf7a537d",
   "metadata": {},
   "outputs": [
    {
     "ename": "AttributeError",
     "evalue": "module 'landcalc' has no attribute 'map'",
     "output_type": "error",
     "traceback": [
      "\u001b[31m---------------------------------------------------------------------------\u001b[39m",
      "\u001b[31mAttributeError\u001b[39m                            Traceback (most recent call last)",
      "\u001b[36mCell\u001b[39m\u001b[36m \u001b[39m\u001b[32mIn[5]\u001b[39m\u001b[32m, line 1\u001b[39m\n\u001b[32m----> \u001b[39m\u001b[32m1\u001b[39m \u001b[43mlc\u001b[49m\u001b[43m.\u001b[49m\u001b[43mmap\u001b[49m()\n\u001b[32m      2\u001b[39m m\n",
      "\u001b[31mAttributeError\u001b[39m: module 'landcalc' has no attribute 'map'"
     ]
    }
   ],
   "source": [
    "lc.map()\n",
    "m"
   ]
  }
 ],
 "metadata": {
  "kernelspec": {
   "display_name": "Python 3",
   "language": "python",
   "name": "python3"
  },
  "language_info": {
   "codemirror_mode": {
    "name": "ipython",
    "version": 3
   },
   "file_extension": ".py",
   "mimetype": "text/x-python",
   "name": "python",
   "nbconvert_exporter": "python",
   "pygments_lexer": "ipython3",
   "version": "3.11.11"
  }
 },
 "nbformat": 4,
 "nbformat_minor": 5
}
