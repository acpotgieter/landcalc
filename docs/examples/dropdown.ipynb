{
 "cells": [
  {
   "cell_type": "markdown",
   "id": "5741ead8",
   "metadata": {},
   "source": [
    "# Using Dropdown Function"
   ]
  },
  {
   "cell_type": "markdown",
   "id": "e68b640d",
   "metadata": {},
   "source": [
    "[![Open In Colab](https://colab.research.google.com/assets/colab-badge.svg)]"
   ]
  },
  {
   "cell_type": "code",
   "execution_count": 5,
   "id": "2ea1b1a1",
   "metadata": {},
   "outputs": [],
   "source": [
    "import landcalc"
   ]
  },
  {
   "cell_type": "code",
   "execution_count": 6,
   "id": "f0faa348",
   "metadata": {},
   "outputs": [
    {
     "data": {
      "application/vnd.jupyter.widget-view+json": {
       "model_id": "cbe7b46be3474707a74cbfa2392ed2f8",
       "version_major": 2,
       "version_minor": 0
      },
      "text/plain": [
       "Map(center=[20, 0], controls=(ZoomControl(options=['position', 'zoom_in_text', 'zoom_in_title', 'zoom_out_text…"
      ]
     },
     "execution_count": 6,
     "metadata": {},
     "output_type": "execute_result"
    }
   ],
   "source": [
    "m = landcalc.Map()\n",
    "m.add_basemap_gui()\n",
    "m"
   ]
  }
 ],
 "metadata": {
  "kernelspec": {
   "display_name": "geo",
   "language": "python",
   "name": "python3"
  },
  "language_info": {
   "codemirror_mode": {
    "name": "ipython",
    "version": 3
   },
   "file_extension": ".py",
   "mimetype": "text/x-python",
   "name": "python",
   "nbconvert_exporter": "python",
   "pygments_lexer": "ipython3",
   "version": "3.12.9"
  }
 },
 "nbformat": 4,
 "nbformat_minor": 5
}
