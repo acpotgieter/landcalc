{
 "cells": [
  {
   "cell_type": "code",
   "execution_count": 3,
   "id": "1f4be4b5",
   "metadata": {},
   "outputs": [],
   "source": [
    "import landcalc.landcalc as landcalc"
   ]
  },
  {
   "cell_type": "code",
   "execution_count": 5,
   "id": "fb7cd360",
   "metadata": {},
   "outputs": [
    {
     "ename": "ImportError",
     "evalue": "cannot import name 'Map' from 'landcalc.landcalc' (/Users/andreapotgieter/landcalc/.conda/lib/python3.11/site-packages/landcalc/landcalc.py)",
     "output_type": "error",
     "traceback": [
      "\u001b[31m---------------------------------------------------------------------------\u001b[39m",
      "\u001b[31mImportError\u001b[39m                               Traceback (most recent call last)",
      "\u001b[36mCell\u001b[39m\u001b[36m \u001b[39m\u001b[32mIn[5]\u001b[39m\u001b[32m, line 1\u001b[39m\n\u001b[32m----> \u001b[39m\u001b[32m1\u001b[39m \u001b[38;5;28;01mfrom\u001b[39;00m\u001b[38;5;250m \u001b[39m\u001b[34;01mlandcalc\u001b[39;00m\u001b[34;01m.\u001b[39;00m\u001b[34;01mlandcalc\u001b[39;00m\u001b[38;5;250m \u001b[39m\u001b[38;5;28;01mimport\u001b[39;00m Map\n",
      "\u001b[31mImportError\u001b[39m: cannot import name 'Map' from 'landcalc.landcalc' (/Users/andreapotgieter/landcalc/.conda/lib/python3.11/site-packages/landcalc/landcalc.py)"
     ]
    }
   ],
   "source": [
    "from landcalc.landcalc import Map"
   ]
  }
 ],
 "metadata": {
  "kernelspec": {
   "display_name": "Python 3",
   "language": "python",
   "name": "python3"
  },
  "language_info": {
   "codemirror_mode": {
    "name": "ipython",
    "version": 3
   },
   "file_extension": ".py",
   "mimetype": "text/x-python",
   "name": "python",
   "nbconvert_exporter": "python",
   "pygments_lexer": "ipython3",
   "version": "3.11.11"
  }
 },
 "nbformat": 4,
 "nbformat_minor": 5
}
